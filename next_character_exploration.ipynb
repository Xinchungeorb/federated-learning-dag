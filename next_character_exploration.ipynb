{
 "cells": [
  {
   "cell_type": "code",
   "execution_count": 1,
   "metadata": {},
   "outputs": [],
   "source": [
    "####### Imports #######"
   ]
  },
  {
   "cell_type": "code",
   "execution_count": 2,
   "metadata": {},
   "outputs": [
    {
     "ename": "ModuleNotFoundError",
     "evalue": "No module named 'tangle'",
     "output_type": "error",
     "traceback": [
      "\u001b[0;31m---------------------------------------------------------------------------\u001b[0m",
      "\u001b[0;31mModuleNotFoundError\u001b[0m                       Traceback (most recent call last)",
      "\u001b[0;32m<ipython-input-2-ddb8ae799b71>\u001b[0m in \u001b[0;36m<module>\u001b[0;34m\u001b[0m\n\u001b[1;32m      1\u001b[0m \u001b[0;32mimport\u001b[0m \u001b[0mimportlib\u001b[0m\u001b[0;34m\u001b[0m\u001b[0;34m\u001b[0m\u001b[0m\n\u001b[1;32m      2\u001b[0m \u001b[0;34m\u001b[0m\u001b[0m\n\u001b[0;32m----> 3\u001b[0;31m \u001b[0;32mfrom\u001b[0m \u001b[0mtangle\u001b[0m\u001b[0;34m.\u001b[0m\u001b[0mmodels\u001b[0m\u001b[0;34m.\u001b[0m\u001b[0mbaseline_constants\u001b[0m \u001b[0;32mimport\u001b[0m \u001b[0mMODEL_PARAMS\u001b[0m\u001b[0;34m\u001b[0m\u001b[0;34m\u001b[0m\u001b[0m\n\u001b[0m\u001b[1;32m      4\u001b[0m \u001b[0;32mfrom\u001b[0m \u001b[0mtangle\u001b[0m\u001b[0;34m.\u001b[0m\u001b[0mmodels\u001b[0m\u001b[0;34m.\u001b[0m\u001b[0mutils\u001b[0m\u001b[0;34m.\u001b[0m\u001b[0mlanguage_utils\u001b[0m \u001b[0;32mimport\u001b[0m \u001b[0mALL_LETTERS_POETS\u001b[0m\u001b[0;34m\u001b[0m\u001b[0;34m\u001b[0m\u001b[0m\n\u001b[1;32m      5\u001b[0m \u001b[0;32mfrom\u001b[0m \u001b[0mtangle\u001b[0m\u001b[0;34m.\u001b[0m\u001b[0mlab\u001b[0m\u001b[0;34m.\u001b[0m\u001b[0mlab_transaction_store\u001b[0m \u001b[0;32mimport\u001b[0m \u001b[0mLabTransactionStore\u001b[0m\u001b[0;34m\u001b[0m\u001b[0;34m\u001b[0m\u001b[0m\n",
      "\u001b[0;31mModuleNotFoundError\u001b[0m: No module named 'tangle'"
     ]
    }
   ],
   "source": [
    "import importlib\n",
    "\n",
    "from tangle.models.baseline_constants import MODEL_PARAMS\n",
    "from tangle.models.utils.language_utils import ALL_LETTERS_POETS\n",
    "from tangle.lab.lab_transaction_store import LabTransactionStore"
   ]
  },
  {
   "cell_type": "code",
   "execution_count": null,
   "metadata": {},
   "outputs": [],
   "source": [
    "####### General Config #######"
   ]
  },
  {
   "cell_type": "code",
   "execution_count": null,
   "metadata": {},
   "outputs": [],
   "source": [
    "lab_seed = 0\n",
    "\n",
    "experiment_name = 'poets-stacked_lstm-2'\n",
    "experiment_config = '0'\n",
    "experiment_transaction_id = '8e5a1029b9ee9d0abb6e57c0f3553069ac824bdc'\n",
    "\n",
    "class ModelConfig:\n",
    "    def __init__(self):\n",
    "        self.dataset = None\n",
    "        self.model = None\n",
    "        self.lr = None\n",
    "        self.num_epochs = None\n",
    "        self.batch_size = None\n",
    "\n",
    "model_config = ModelConfig()\n",
    "model_config.dataset = 'poets'      # no default\n",
    "model_config.model = 'stacked_lstm' # no default\n",
    "model_config.lr = 0.8               # default: -1\n",
    "model_config.num_epochs = 1         # default: 1\n",
    "model_config.batch_size = 10        # default: 10"
   ]
  },
  {
   "cell_type": "code",
   "execution_count": null,
   "metadata": {},
   "outputs": [],
   "source": [
    "####### Logic #######"
   ]
  },
  {
   "cell_type": "code",
   "execution_count": null,
   "metadata": {},
   "outputs": [],
   "source": [
    "# copied from lab.py\n",
    "\n",
    "def create_client_model(seed, model_config):\n",
    "    model_path = '.%s.%s' % (model_config.dataset, model_config.model)\n",
    "    mod = importlib.import_module(model_path, package='tangle.models')\n",
    "    ClientModel = getattr(mod, 'ClientModel')\n",
    "\n",
    "    # Create 2 models\n",
    "    model_params = MODEL_PARAMS['%s.%s' % (model_config.dataset, model_config.model)]\n",
    "    if model_config.lr != -1:\n",
    "        model_params_list = list(model_params)\n",
    "        model_params_list[0] = model_config.lr\n",
    "        model_params = tuple(model_params_list)\n",
    "\n",
    "    model = ClientModel(seed, *model_params)\n",
    "    model.num_epochs = model_config.num_epochs\n",
    "    model.batch_size = model_config.batch_size\n",
    "    return model"
   ]
  },
  {
   "cell_type": "code",
   "execution_count": null,
   "metadata": {},
   "outputs": [],
   "source": [
    "def test(client_model, transaction_store, transaction_id, data):\n",
    "    # Load and set params for model (based on transaction id)\n",
    "    model_params = transaction_store.load_transaction_weights(transaction_id)\n",
    "    client_model.set_params(model_params)\n",
    "    \n",
    "    # Test the model\n",
    "    results = client_model.test(data)\n",
    "    len_results = len(results['additional_metrics'][0])\n",
    "    \n",
    "    # Extract predicted and expected results\n",
    "    predicted = [ALL_LETTERS_POETS[results['additional_metrics'][0][i]] for i in range(len_results)]\n",
    "    expected = [ALL_LETTERS_POETS[results['additional_metrics'][1][i]] for i in range(len_results)]\n",
    "    return predicted, expected"
   ]
  },
  {
   "cell_type": "code",
   "execution_count": null,
   "metadata": {},
   "outputs": [],
   "source": [
    "# Create transaction store\n",
    "transaction_store = LabTransactionStore(f'../experiments/{experiment_name}/config_{experiment_config}/tangle_data')\n",
    "\n",
    "# Create model\n",
    "client_model = create_client_model(lab_seed, model_config)"
   ]
  },
  {
   "cell_type": "code",
   "execution_count": null,
   "metadata": {},
   "outputs": [],
   "source": [
    "# Enter test_data here (or load from file, ...)\n",
    "test_data = {\n",
    "    'x': [\n",
    "        \"Das ist ein wunderbarer Beispieltext, der exakt 80 Zeichen lang ist. Gleich komm\",\n",
    "        \"sagte er und ging auf sie zu. \\\"Du hast mir nichts zu sagen!\\\" Er war außer sich v\",\n",
    "        \"ch prangt, Wenn sie das goldne Vlies erlangt, Ihr die Kabiren. Wenn sie das gold\",\n",
    "    ],\n",
    "    'y': [\n",
    "        \"t\",\n",
    "        \"o\",\n",
    "        \"e\"\n",
    "    ]\n",
    "}"
   ]
  },
  {
   "cell_type": "code",
   "execution_count": null,
   "metadata": {},
   "outputs": [],
   "source": [
    "predicted, expected = test(client_model, transaction_store, experiment_transaction_id, test_data)"
   ]
  },
  {
   "cell_type": "code",
   "execution_count": null,
   "metadata": {},
   "outputs": [],
   "source": [
    "for t_data, expected_char, predicted_char in zip(test_data['x'], expected, predicted):\n",
    "    print(\"For '%s' expected '%s', got '%s'\" % (t_data, expected_char, predicted_char))"
   ]
  }
 ],
 "metadata": {
  "kernelspec": {
   "display_name": "Python 3",
   "language": "python",
   "name": "python3"
  },
  "language_info": {
   "codemirror_mode": {
    "name": "ipython",
    "version": 3
   },
   "file_extension": ".py",
   "mimetype": "text/x-python",
   "name": "python",
   "nbconvert_exporter": "python",
   "pygments_lexer": "ipython3",
   "version": "3.6.9"
  }
 },
 "nbformat": 4,
 "nbformat_minor": 2
}
